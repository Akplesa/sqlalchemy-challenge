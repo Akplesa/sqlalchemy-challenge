<?xml version="1.0" encoding="UTF-8"?>
<!DOCTYPE plist PUBLIC "-//Apple//DTD PLIST 1.0//EN" "http://www.apple.com/DTDs/PropertyList-1.0.dtd">
<plist version="1.0">
<dict>
	<key>URL</key>
	<string>http://localhost:8888/notebooks/ucsd-sd-data-pt-05-2020-u-c/02-Homework/10-Advanced-Data-Storage-and-Retrieval/Instructions/climate_starter-Copy1.ipynb</string>
</dict>
</plist>
